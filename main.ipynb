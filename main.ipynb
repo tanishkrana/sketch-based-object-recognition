{
 "cells": [
  {
   "cell_type": "code",
   "execution_count": 46,
   "id": "8d49c306",
   "metadata": {
    "scrolled": true
   },
   "outputs": [],
   "source": [
    "!pip3 install tensorflow"
   ]
  },
  {
   "cell_type": "code",
   "execution_count": 1,
   "id": "d9984e41",
   "metadata": {},
   "outputs": [],
   "source": [
    "from tensorflow.keras.models import load_model\n",
    "import numpy as np\n",
    "from numpy import asarray\n",
    "from tkinter import *\n",
    "import PIL\n",
    "import os\n",
    "from PIL import Image, ImageTk, ImageDraw\n",
    "from skimage import data, io\n",
    "from skimage.transform import resize"
   ]
  },
  {
   "cell_type": "code",
   "execution_count": 2,
   "id": "ba488db1",
   "metadata": {},
   "outputs": [],
   "source": [
    "def predict():\n",
    "    filename = 'image.png'\n",
    "    image1.save(filename)\n",
    "    img = io.imread(\"image.png\")\n",
    "    img = resize(img, (28, 28,1))\n",
    "    img = np.expand_dims(img, axis=0)\n",
    "    label1.config(text= class_names[np.argmax(model.predict(img))])"
   ]
  },
  {
   "cell_type": "code",
   "execution_count": 3,
   "id": "78e7f240",
   "metadata": {},
   "outputs": [],
   "source": [
    "def clear():\n",
    "    canvas.delete(\"all\")\n",
    "    draw.rectangle((0, 0, width, height), fill=\"white\")\n",
    "    label1.config(text= \"Draw Something!\")"
   ]
  },
  {
   "cell_type": "code",
   "execution_count": 4,
   "id": "a08653bf",
   "metadata": {},
   "outputs": [],
   "source": [
    "def paint(event):\n",
    "    x1, y1 = (event.x-1), (event.y-1)\n",
    "    x2, y2 = (event.x+1), (event.y+1)\n",
    "    canvas.create_line((x1, y1, x2, y2), fill='black', width=20)\n",
    "    draw.line([x1,y1,x2,y2],fill='black', width=20)"
   ]
  },
  {
   "cell_type": "code",
   "execution_count": 5,
   "id": "0a2347ee",
   "metadata": {},
   "outputs": [],
   "source": [
    "### for tkinter GUI\n",
    "\n",
    "width = 400\n",
    "height = 400\n",
    "center = height//2\n",
    "white = (255,255,255)\n",
    "green = (0,128,0)"
   ]
  },
  {
   "cell_type": "code",
   "execution_count": 6,
   "id": "37447551",
   "metadata": {},
   "outputs": [],
   "source": [
    "class_names = [\"Apple\", \"Banana\", \"Crab\", \"Crown\", \"Dog\", \"Duck\", \"Eye\", \"Feather\", \"Pizza\", \"Tree\"]   "
   ]
  },
  {
   "cell_type": "code",
   "execution_count": 7,
   "id": "9bb01840",
   "metadata": {},
   "outputs": [],
   "source": [
    "model = load_model('object_recog.h5')"
   ]
  },
  {
   "cell_type": "code",
   "execution_count": 8,
   "id": "329c8cd3",
   "metadata": {},
   "outputs": [],
   "source": [
    "model.compile(loss='categorical_crossentropy',\n",
    "              optimizer='adam',\n",
    "              metrics=['accuracy'])"
   ]
  },
  {
   "cell_type": "code",
   "execution_count": 9,
   "id": "1bdc8eaf",
   "metadata": {},
   "outputs": [],
   "source": [
    "app = Tk()\n",
    "\n",
    "\n",
    "canvas = Canvas(width = width, height = height, bg='white')\n",
    "canvas.pack()\n",
    "canvas.bind(\"<B1-Motion>\", paint)\n",
    "\n",
    "\n",
    "image1 = PIL.Image.new(\"RGB\",(width, height),white)\n",
    "draw = ImageDraw.Draw(image1)\n",
    "\n",
    "button = Button(text = \"Predict Now!\", command = predict)\n",
    "button.pack()\n",
    "\n",
    "button = Button(text = \"Clear Image\", command = clear)\n",
    "button.pack()\n",
    "\n",
    "label1=Label(app,text='Draw Something!',bg='gold',fg='blue')\n",
    "label1.place(x=0,y=0)\n",
    "\n",
    "\n",
    "app.mainloop()\n",
    "\n",
    "\n",
    "\n",
    "\n",
    "\n"
   ]
  },
  {
   "cell_type": "code",
   "execution_count": null,
   "id": "fc7f7763",
   "metadata": {},
   "outputs": [],
   "source": []
  }
 ],
 "metadata": {
  "kernelspec": {
   "display_name": "Python 3",
   "language": "python",
   "name": "python3"
  },
  "language_info": {
   "codemirror_mode": {
    "name": "ipython",
    "version": 3
   },
   "file_extension": ".py",
   "mimetype": "text/x-python",
   "name": "python",
   "nbconvert_exporter": "python",
   "pygments_lexer": "ipython3",
   "version": "3.8.8"
  }
 },
 "nbformat": 4,
 "nbformat_minor": 5
}
