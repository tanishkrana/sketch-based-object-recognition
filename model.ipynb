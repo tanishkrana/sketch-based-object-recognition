{
  "nbformat": 4,
  "nbformat_minor": 0,
  "metadata": {
    "colab": {
      "name": "model.ipynb",
      "provenance": [],
      "collapsed_sections": []
    },
    "kernelspec": {
      "name": "python3",
      "display_name": "Python 3"
    },
    "language_info": {
      "name": "python"
    }
  },
  "cells": [
    {
      "cell_type": "code",
      "execution_count": 53,
      "metadata": {
        "id": "7ACjdxF672IC"
      },
      "outputs": [],
      "source": [
        "# installing dependencies \n",
        "\n",
        "from sklearn.model_selection import train_test_split\n",
        "from keras.models import Sequential\n",
        "from keras.layers.core import Dense, Dropout, Flatten\n",
        "from keras.layers.convolutional import Conv2D, MaxPooling2D, SeparableConv2D\n",
        "from keras.utils import np_utils\n",
        "from random import randint\n",
        "import numpy as np\n",
        "import os\n",
        "import PIL\n",
        "from PIL import Image, ImageTk, ImageDraw\n",
        "from tkinter import *"
      ]
    },
    {
      "cell_type": "code",
      "source": [
        "### for storing google colab dataset for 10 categories\n",
        "\n",
        "!mkdir data"
      ],
      "metadata": {
        "id": "IKOpVnIllKNC"
      },
      "execution_count": null,
      "outputs": []
    },
    {
      "cell_type": "code",
      "source": [
        "cd data"
      ],
      "metadata": {
        "colab": {
          "base_uri": "https://localhost:8080/"
        },
        "id": "SyaZXrai8ecR",
        "outputId": "d4752d03-c622-4d7e-e2d7-ae9dc823fec2"
      },
      "execution_count": null,
      "outputs": [
        {
          "output_type": "stream",
          "name": "stdout",
          "text": [
            "/content/data\n"
          ]
        }
      ]
    },
    {
      "cell_type": "code",
      "source": [
        "### downloading numpy bitmaps of 10 categories from google storage\n",
        "\n",
        "!wget https://storage.googleapis.com/quickdraw_dataset/full/numpy_bitmap/apple.npy\n",
        "!wget https://storage.googleapis.com/quickdraw_dataset/full/numpy_bitmap/banana.npy\n",
        "!wget https://storage.googleapis.com/quickdraw_dataset/full/numpy_bitmap/crab.npy\n",
        "!wget https://storage.googleapis.com/quickdraw_dataset/full/numpy_bitmap/crown.npy\n",
        "!wget https://storage.googleapis.com/quickdraw_dataset/full/numpy_bitmap/dog.npy\n",
        "!wget https://storage.googleapis.com/quickdraw_dataset/full/numpy_bitmap/duck.npy\n",
        "!wget https://storage.googleapis.com/quickdraw_dataset/full/numpy_bitmap/eye.npy\n",
        "!wget https://storage.googleapis.com/quickdraw_dataset/full/numpy_bitmap/feather.npy\n",
        "!wget https://storage.googleapis.com/quickdraw_dataset/full/numpy_bitmap/tree.npy\n",
        "!wget https://storage.googleapis.com/quickdraw_dataset/full/numpy_bitmap/pizza.npy"
      ],
      "metadata": {
        "colab": {
          "base_uri": "https://localhost:8080/"
        },
        "id": "UQvhuZaF74RY",
        "outputId": "73084f5b-f692-46b2-a5f0-cb55689298bd"
      },
      "execution_count": null,
      "outputs": [
        {
          "output_type": "stream",
          "name": "stdout",
          "text": [
            "--2022-01-19 04:31:51--  https://storage.googleapis.com/quickdraw_dataset/full/numpy_bitmap/apple.npy\n",
            "Resolving storage.googleapis.com (storage.googleapis.com)... 173.194.212.128, 173.194.213.128, 173.194.215.128, ...\n",
            "Connecting to storage.googleapis.com (storage.googleapis.com)|173.194.212.128|:443... connected.\n",
            "HTTP request sent, awaiting response... 200 OK\n",
            "Length: 113462128 (108M) [application/octet-stream]\n",
            "Saving to: ‘apple.npy’\n",
            "\n",
            "apple.npy           100%[===================>] 108.21M  55.3MB/s    in 2.0s    \n",
            "\n",
            "2022-01-19 04:31:53 (55.3 MB/s) - ‘apple.npy’ saved [113462128/113462128]\n",
            "\n",
            "--2022-01-19 04:31:53--  https://storage.googleapis.com/quickdraw_dataset/full/numpy_bitmap/banana.npy\n",
            "Resolving storage.googleapis.com (storage.googleapis.com)... 173.194.212.128, 173.194.213.128, 173.194.215.128, ...\n",
            "Connecting to storage.googleapis.com (storage.googleapis.com)|173.194.212.128|:443... connected.\n",
            "HTTP request sent, awaiting response... 200 OK\n",
            "Length: 241421904 (230M) [application/octet-stream]\n",
            "Saving to: ‘banana.npy’\n",
            "\n",
            "banana.npy          100%[===================>] 230.24M   120MB/s    in 1.9s    \n",
            "\n",
            "2022-01-19 04:31:55 (120 MB/s) - ‘banana.npy’ saved [241421904/241421904]\n",
            "\n",
            "--2022-01-19 04:31:55--  https://storage.googleapis.com/quickdraw_dataset/full/numpy_bitmap/crab.npy\n",
            "Resolving storage.googleapis.com (storage.googleapis.com)... 142.250.97.128, 142.251.107.128, 173.194.216.128, ...\n",
            "Connecting to storage.googleapis.com (storage.googleapis.com)|142.250.97.128|:443... connected.\n",
            "HTTP request sent, awaiting response... 200 OK\n",
            "Length: 99513200 (95M) [application/octet-stream]\n",
            "Saving to: ‘crab.npy’\n",
            "\n",
            "crab.npy            100%[===================>]  94.90M  95.3MB/s    in 1.0s    \n",
            "\n",
            "2022-01-19 04:31:57 (95.3 MB/s) - ‘crab.npy’ saved [99513200/99513200]\n",
            "\n",
            "--2022-01-19 04:31:57--  https://storage.googleapis.com/quickdraw_dataset/full/numpy_bitmap/crown.npy\n",
            "Resolving storage.googleapis.com (storage.googleapis.com)... 172.217.204.128, 172.217.203.128, 172.253.123.128, ...\n",
            "Connecting to storage.googleapis.com (storage.googleapis.com)|172.217.204.128|:443... connected.\n",
            "HTTP request sent, awaiting response... 200 OK\n",
            "Length: 105125856 (100M) [application/octet-stream]\n",
            "Saving to: ‘crown.npy’\n",
            "\n",
            "crown.npy           100%[===================>] 100.25M  89.3MB/s    in 1.1s    \n",
            "\n",
            "2022-01-19 04:31:58 (89.3 MB/s) - ‘crown.npy’ saved [105125856/105125856]\n",
            "\n",
            "--2022-01-19 04:31:58--  https://storage.googleapis.com/quickdraw_dataset/full/numpy_bitmap/dog.npy\n",
            "Resolving storage.googleapis.com (storage.googleapis.com)... 173.194.210.128, 173.194.211.128, 173.194.212.128, ...\n",
            "Connecting to storage.googleapis.com (storage.googleapis.com)|173.194.210.128|:443... connected.\n",
            "HTTP request sent, awaiting response... 200 OK\n",
            "Length: 119292736 (114M) [application/octet-stream]\n",
            "Saving to: ‘dog.npy’\n",
            "\n",
            "dog.npy             100%[===================>] 113.77M  67.6MB/s    in 1.7s    \n",
            "\n",
            "2022-01-19 04:32:00 (67.6 MB/s) - ‘dog.npy’ saved [119292736/119292736]\n",
            "\n",
            "--2022-01-19 04:32:00--  https://storage.googleapis.com/quickdraw_dataset/full/numpy_bitmap/duck.npy\n",
            "Resolving storage.googleapis.com (storage.googleapis.com)... 172.217.204.128, 172.217.203.128, 172.253.123.128, ...\n",
            "Connecting to storage.googleapis.com (storage.googleapis.com)|172.217.204.128|:443... connected.\n",
            "HTTP request sent, awaiting response... 200 OK\n",
            "Length: 106216400 (101M) [application/octet-stream]\n",
            "Saving to: ‘duck.npy’\n",
            "\n",
            "duck.npy            100%[===================>] 101.29M  72.9MB/s    in 1.4s    \n",
            "\n",
            "2022-01-19 04:32:02 (72.9 MB/s) - ‘duck.npy’ saved [106216400/106216400]\n",
            "\n",
            "--2022-01-19 04:32:02--  https://storage.googleapis.com/quickdraw_dataset/full/numpy_bitmap/eye.npy\n",
            "Resolving storage.googleapis.com (storage.googleapis.com)... 172.217.193.128, 172.217.204.128, 172.217.203.128, ...\n",
            "Connecting to storage.googleapis.com (storage.googleapis.com)|172.217.193.128|:443... connected.\n",
            "HTTP request sent, awaiting response... 200 OK\n",
            "Length: 98696272 (94M) [application/octet-stream]\n",
            "Saving to: ‘eye.npy’\n",
            "\n",
            "eye.npy             100%[===================>]  94.12M   127MB/s    in 0.7s    \n",
            "\n",
            "2022-01-19 04:32:03 (127 MB/s) - ‘eye.npy’ saved [98696272/98696272]\n",
            "\n",
            "--2022-01-19 04:32:03--  https://storage.googleapis.com/quickdraw_dataset/full/numpy_bitmap/feather.npy\n",
            "Resolving storage.googleapis.com (storage.googleapis.com)... 173.194.212.128, 173.194.213.128, 173.194.215.128, ...\n",
            "Connecting to storage.googleapis.com (storage.googleapis.com)|173.194.212.128|:443... connected.\n",
            "HTTP request sent, awaiting response... 200 OK\n",
            "Length: 94009520 (90M) [application/octet-stream]\n",
            "Saving to: ‘feather.npy’\n",
            "\n",
            "feather.npy         100%[===================>]  89.65M  69.9MB/s    in 1.3s    \n",
            "\n",
            "2022-01-19 04:32:04 (69.9 MB/s) - ‘feather.npy’ saved [94009520/94009520]\n",
            "\n",
            "--2022-01-19 04:32:04--  https://storage.googleapis.com/quickdraw_dataset/full/numpy_bitmap/tree.npy\n",
            "Resolving storage.googleapis.com (storage.googleapis.com)... 173.194.213.128, 173.194.215.128, 108.177.12.128, ...\n",
            "Connecting to storage.googleapis.com (storage.googleapis.com)|173.194.213.128|:443... connected.\n",
            "HTTP request sent, awaiting response... 200 OK\n",
            "Length: 113461344 (108M) [application/octet-stream]\n",
            "Saving to: ‘tree.npy’\n",
            "\n",
            "tree.npy            100%[===================>] 108.21M   112MB/s    in 1.0s    \n",
            "\n",
            "2022-01-19 04:32:05 (112 MB/s) - ‘tree.npy’ saved [113461344/113461344]\n",
            "\n",
            "--2022-01-19 04:32:05--  https://storage.googleapis.com/quickdraw_dataset/full/numpy_bitmap/pizza.npy\n",
            "Resolving storage.googleapis.com (storage.googleapis.com)... 172.253.123.128, 142.250.98.128, 142.250.97.128, ...\n",
            "Connecting to storage.googleapis.com (storage.googleapis.com)|172.253.123.128|:443... connected.\n",
            "HTTP request sent, awaiting response... 200 OK\n",
            "Length: 102210944 (97M) [application/octet-stream]\n",
            "Saving to: ‘pizza.npy’\n",
            "\n",
            "pizza.npy           100%[===================>]  97.48M  52.3MB/s    in 1.9s    \n",
            "\n",
            "2022-01-19 04:32:07 (52.3 MB/s) - ‘pizza.npy’ saved [102210944/102210944]\n",
            "\n"
          ]
        }
      ]
    },
    {
      "cell_type": "code",
      "source": [
        "### checking each file\n",
        "\n",
        "ls"
      ],
      "metadata": {
        "colab": {
          "base_uri": "https://localhost:8080/"
        },
        "id": "k0wmcsfL7_Nl",
        "outputId": "c3e6ab03-7f02-43e7-fc13-835110d71279"
      },
      "execution_count": null,
      "outputs": [
        {
          "output_type": "stream",
          "name": "stdout",
          "text": [
            "apple.npy   crab.npy   dog.npy   eye.npy      pizza.npy\n",
            "banana.npy  crown.npy  duck.npy  feather.npy  tree.npy\n"
          ]
        }
      ]
    },
    {
      "cell_type": "code",
      "source": [
        "cd .."
      ],
      "metadata": {
        "colab": {
          "base_uri": "https://localhost:8080/"
        },
        "id": "u73_FouG8LmH",
        "outputId": "80e6c032-4f5b-472e-f5a8-7b0e955cbdc6"
      },
      "execution_count": 43,
      "outputs": [
        {
          "output_type": "stream",
          "name": "stdout",
          "text": [
            "/content\n"
          ]
        }
      ]
    },
    {
      "cell_type": "code",
      "source": [
        "# variable initialization\n",
        "\n",
        "N_OBJ = 10\n",
        "OBJ = {0: \"Apple\", 1: \"Banana\", 2: \"Crab\", 3: \"Crown\", 4: \"Dog\", 5: \"Duck\", 6: \"Eye\", 7: \"Feather\", 8: \"Pizza\", 9: \"Tree\"}\n",
        "\n",
        "# number of samples to take in each category\n",
        "N = 2000\n",
        "\n",
        "# 15 iterations for model training\n",
        "N_EPOCHS = 15\n",
        "\n",
        "# data files in the same order as defined in our data\n",
        "files = [\"apple.npy\", \"banana.npy\", \"crab.npy\", \"crown.npy\", \"dog.npy\", \"duck.npy\", \"eye.npy\", \"feather.npy\", \"pizza.npy\", \"tree.npy\"]"
      ],
      "metadata": {
        "id": "RTlRpaff8oEa"
      },
      "execution_count": 54,
      "outputs": []
    },
    {
      "cell_type": "code",
      "source": [
        "def load(dir, reshaped, files):\n",
        "    \"Load .npy files and return them as numpy arrays. \\\n",
        "    Takes in a list of filenames and returns a list of numpy arrays.\"\n",
        "\n",
        "    data = []\n",
        "    for file in files:\n",
        "        f = np.load(dir + file)\n",
        "        if reshaped:\n",
        "            new_f = []\n",
        "            for i in range(len(f)):\n",
        "                x = np.reshape(f[i], (28, 28))\n",
        "                x = np.expand_dims(x, axis=0)\n",
        "                x = np.reshape(f[i], (28, 28, 1))\n",
        "                new_f.append(x)\n",
        "            f = new_f\n",
        "        data.append(f)\n",
        "    return data\n",
        "\n",
        "\n",
        "def normalize(data):\n",
        "    \"Takes a list or a list of lists and returns its normalized form\"\n",
        "\n",
        "    return np.interp(data, [0, 255], [-1, 1])\n",
        "\n",
        "\n",
        "def denormalize(data):\n",
        "    \"Takes a list or a list of lists and returns its denormalized form\"\n",
        "\n",
        "    return np.interp(data, [-1, 1], [0, 255])\n",
        "\n",
        "\n",
        "def visualize(array):\n",
        "    \"Visulaze a 2D array as an Image\"\n",
        "    array = np.reshape(array, (28,28))\n",
        "    img = Image.fromarray(array)\n",
        "    return img\n",
        "\n",
        "\n",
        "def set_limit(arrays, n):\n",
        "    \"Limit elements from each array up to n elements and return a single list\"\n",
        "    new = []\n",
        "    for array in arrays:\n",
        "        i = 0\n",
        "        for item in array:\n",
        "            if i == n:\n",
        "                break\n",
        "            new.append(item)\n",
        "            i += 1\n",
        "    return new\n",
        "\n",
        "\n",
        "def make_labels(N1, N2):\n",
        "    \"make labels from 0 to N1, each repeated N2 times\"\n",
        "    labels = []\n",
        "    for i in range(N1):\n",
        "        labels += [i] * N2\n",
        "    return labels"
      ],
      "metadata": {
        "id": "aRUoXS4r8z27"
      },
      "execution_count": 55,
      "outputs": []
    },
    {
      "cell_type": "code",
      "source": [
        "\n",
        "#second argument is True for reshaping the image to a 28x28 form. A conv net expects this format.\n",
        "objects = load(\"data/\", True, files)\n",
        " \n",
        "\n",
        "\n",
        "\n",
        "# limit no of samples in each class to N\n",
        "objects = set_limit(objects, N)\n",
        "\n",
        "# normalize the values\n",
        "objects = list(map(normalize, objects))\n",
        "\n",
        "# define the labels\n",
        "labels = make_labels(N_OBJ, N)\n",
        "\n",
        "# prepare the data with 90%-10% split for training-testing\n",
        "x_train, x_test, y_train, y_test = train_test_split(objects, labels, test_size=0.2)\n",
        "\n",
        "# one hot encoding\n",
        "Y_train = np_utils.to_categorical(y_train, N_OBJ)\n",
        "Y_test = np_utils.to_categorical(y_test, N_OBJ)\n"
      ],
      "metadata": {
        "id": "8eNzWNRY9COt"
      },
      "execution_count": 56,
      "outputs": []
    },
    {
      "cell_type": "code",
      "source": [
        "model = Sequential()\n",
        "model.add(Conv2D(32, kernel_size=(3, 3), activation='relu', input_shape=(28,28,1)))\n",
        "model.add(Conv2D(64, (3, 3), activation='relu'))\n",
        "model.add(MaxPooling2D(pool_size=(2, 2)))\n",
        "model.add(Dropout(0.25))\n",
        "model.add(Flatten())\n",
        "model.add(Dense(128, activation='relu'))\n",
        "model.add(Dropout(0.5))\n",
        "model.add(Dense(N_OBJ, activation='softmax'))"
      ],
      "metadata": {
        "id": "PXyyIkKs_s0b"
      },
      "execution_count": 57,
      "outputs": []
    },
    {
      "cell_type": "code",
      "source": [
        "model.compile(loss='categorical_crossentropy',\n",
        "              optimizer='adam',\n",
        "              metrics=['accuracy'])\n",
        "\n",
        "\n",
        "# train\n",
        "model.fit(np.array(x_train), np.array(Y_train), batch_size=32, epochs=N_EPOCHS)\n",
        "\n",
        "print(\"Training complete\")\n",
        "\n",
        "print(\"Evaluating model\")\n",
        "preds = model.predict(np.array(x_test))\n",
        "\n",
        "score = 0\n",
        "for i in range(len(preds)):\n",
        "    if np.argmax(preds[i]) == y_test[i]:\n",
        "        score += 1\n",
        "\n",
        "print(\"Accuracy: \", ((score + 0.0) / len(preds)) * 100)\n",
        "\n",
        "\n",
        "model.save(\"object_recog\"+ \".h5\")\n",
        "print(\"Model saved\")\n"
      ],
      "metadata": {
        "colab": {
          "base_uri": "https://localhost:8080/"
        },
        "id": "SekG2gh8AnMQ",
        "outputId": "bbc13867-316a-44b3-e8c7-385f9a6639b6"
      },
      "execution_count": 58,
      "outputs": [
        {
          "output_type": "stream",
          "name": "stdout",
          "text": [
            "Epoch 1/15\n",
            "500/500 [==============================] - 46s 90ms/step - loss: 0.8432 - accuracy: 0.7336\n",
            "Epoch 2/15\n",
            "500/500 [==============================] - 46s 92ms/step - loss: 0.5096 - accuracy: 0.8433\n",
            "Epoch 3/15\n",
            "500/500 [==============================] - 45s 91ms/step - loss: 0.4022 - accuracy: 0.8759\n",
            "Epoch 4/15\n",
            "500/500 [==============================] - 47s 94ms/step - loss: 0.3275 - accuracy: 0.8959\n",
            "Epoch 5/15\n",
            "500/500 [==============================] - 44s 89ms/step - loss: 0.2865 - accuracy: 0.9090\n",
            "Epoch 6/15\n",
            "500/500 [==============================] - 44s 87ms/step - loss: 0.2413 - accuracy: 0.9189\n",
            "Epoch 7/15\n",
            "500/500 [==============================] - 45s 90ms/step - loss: 0.2046 - accuracy: 0.9326\n",
            "Epoch 8/15\n",
            "500/500 [==============================] - 45s 90ms/step - loss: 0.1941 - accuracy: 0.9341\n",
            "Epoch 9/15\n",
            "500/500 [==============================] - 45s 90ms/step - loss: 0.1661 - accuracy: 0.9434\n",
            "Epoch 10/15\n",
            "500/500 [==============================] - 45s 90ms/step - loss: 0.1520 - accuracy: 0.9471\n",
            "Epoch 11/15\n",
            "500/500 [==============================] - 44s 89ms/step - loss: 0.1407 - accuracy: 0.9503\n",
            "Epoch 12/15\n",
            "500/500 [==============================] - 45s 89ms/step - loss: 0.1371 - accuracy: 0.9519\n",
            "Epoch 13/15\n",
            "500/500 [==============================] - 45s 89ms/step - loss: 0.1142 - accuracy: 0.9579\n",
            "Epoch 14/15\n",
            "500/500 [==============================] - 44s 89ms/step - loss: 0.1160 - accuracy: 0.9581\n",
            "Epoch 15/15\n",
            "500/500 [==============================] - 44s 89ms/step - loss: 0.1137 - accuracy: 0.9603\n",
            "Training complete\n",
            "Evaluating model\n",
            "Accuracy:  90.125\n",
            "Model saved\n"
          ]
        }
      ]
    },
    {
      "cell_type": "code",
      "source": [
        ""
      ],
      "metadata": {
        "id": "ITb5zpT3OJ6_"
      },
      "execution_count": null,
      "outputs": []
    }
  ]
}